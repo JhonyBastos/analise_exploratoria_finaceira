{
  "nbformat": 4,
  "nbformat_minor": 0,
  "metadata": {
    "colab": {
      "provenance": []
    },
    "kernelspec": {
      "name": "python3",
      "display_name": "Python 3"
    },
    "language_info": {
      "name": "python"
    }
  },
  "cells": [
    {
      "cell_type": "markdown",
      "source": [
        "# **Base de Vendas**"
      ],
      "metadata": {
        "id": "t4UMxFgnaX46"
      }
    },
    {
      "cell_type": "code",
      "source": [
        "#importando as bibliotecas\n",
        "import pandas as pd\n",
        "import matplotlib.pyplot as plt\n",
        "plt.style.use('seaborn')"
      ],
      "metadata": {
        "id": "-reMfzDHamvB"
      },
      "execution_count": null,
      "outputs": []
    },
    {
      "cell_type": "code",
      "source": [
        "#upload do arquivo\n",
        "from google.colab import files\n",
        "arq = files.upload()"
      ],
      "metadata": {
        "id": "jCW1lo344Uk_"
      },
      "execution_count": null,
      "outputs": []
    },
    {
      "cell_type": "code",
      "source": [
        "#Criando data Frame\n",
        "df = pd.read_excel('AdventureWorks.xlsx')"
      ],
      "metadata": {
        "id": "U4PrA0EM5jJa"
      },
      "execution_count": null,
      "outputs": []
    },
    {
      "cell_type": "code",
      "source": [
        "#Visualizando as 5 primeiras linhas\n",
        "df.head()"
      ],
      "metadata": {
        "id": "sbWT4nOo6Vly"
      },
      "execution_count": null,
      "outputs": []
    },
    {
      "cell_type": "code",
      "source": [
        "#Quantidade de linhas e colunas\n",
        "df.shape"
      ],
      "metadata": {
        "colab": {
          "base_uri": "https://localhost:8080/"
        },
        "id": "DyGsJE3m6inX",
        "outputId": "ef030934-6d15-4a58-b1e7-3055b50e16fd"
      },
      "execution_count": null,
      "outputs": [
        {
          "output_type": "execute_result",
          "data": {
            "text/plain": [
              "(904, 16)"
            ]
          },
          "metadata": {},
          "execution_count": 5
        }
      ]
    },
    {
      "cell_type": "code",
      "source": [
        "#Verificando o tipo de dados\n",
        "df.dtypes"
      ],
      "metadata": {
        "id": "z3EnCCi08K5u"
      },
      "execution_count": null,
      "outputs": []
    },
    {
      "cell_type": "code",
      "source": [
        "#Verificando a receita total\n",
        "df['Valor Venda'].sum()"
      ],
      "metadata": {
        "colab": {
          "base_uri": "https://localhost:8080/"
        },
        "id": "1bxRSbQQ8TeH",
        "outputId": "ff70d939-d825-4172-efa8-11948a432bc9"
      },
      "execution_count": null,
      "outputs": [
        {
          "output_type": "execute_result",
          "data": {
            "text/plain": [
              "5984606.1426"
            ]
          },
          "metadata": {},
          "execution_count": 7
        }
      ]
    },
    {
      "cell_type": "code",
      "source": [
        "#Calculando o custo total\n",
        "df['Custo'] = df['Custo Unitário'].mul(df['Quantidade']) #Cria a coluna Custo"
      ],
      "metadata": {
        "id": "zizEw23t8mep"
      },
      "execution_count": null,
      "outputs": []
    },
    {
      "cell_type": "code",
      "source": [
        "df.head()"
      ],
      "metadata": {
        "id": "XeVL27YI-xb5"
      },
      "execution_count": null,
      "outputs": []
    },
    {
      "cell_type": "code",
      "source": [
        "#Qual o custo total\n",
        "round(df['Custo'].sum(), 2) #arredonda o valor em 2 casas decimais"
      ],
      "metadata": {
        "id": "csY-RPs9_WjH"
      },
      "execution_count": null,
      "outputs": []
    },
    {
      "cell_type": "code",
      "source": [
        "#Criando a coluna e encontrando o lucro total (Receita - Custo)\n",
        "df['Lucro'] = df['Valor Venda'] - df['Custo']"
      ],
      "metadata": {
        "id": "FNoU202_B2C4"
      },
      "execution_count": null,
      "outputs": []
    },
    {
      "cell_type": "code",
      "source": [
        "df.head()"
      ],
      "metadata": {
        "id": "gQ1remQOCth1"
      },
      "execution_count": null,
      "outputs": []
    },
    {
      "cell_type": "code",
      "source": [
        "#Lucro total\n",
        "round(df['Lucro'].sum(), 2)"
      ],
      "metadata": {
        "id": "nWiAMFHQCwd7"
      },
      "execution_count": null,
      "outputs": []
    },
    {
      "cell_type": "code",
      "source": [
        "#Criando uma coluna com o tempo total para o envio do produto\n",
        "df['Tempo_envio'] = df['Data Envio'] - df['Data Venda']"
      ],
      "metadata": {
        "id": "og8Y9jB8DiFK"
      },
      "execution_count": null,
      "outputs": []
    },
    {
      "cell_type": "code",
      "source": [
        "df.head()"
      ],
      "metadata": {
        "id": "rFRiWnlzEeh1"
      },
      "execution_count": null,
      "outputs": []
    },
    {
      "cell_type": "markdown",
      "source": [
        "**Calculando a média do tempo de envio para cada marca, de forma quea coluna Tempo_envio seja do tipo numérico**"
      ],
      "metadata": {
        "id": "jLRyiFNFGHue"
      }
    },
    {
      "cell_type": "code",
      "source": [
        "#Extraindo apenas os dias\n",
        "df['Tempo_envio'] = (df['Data Envio'] - df['Data Venda']).dt.days"
      ],
      "metadata": {
        "id": "FMX6OkimEg3n"
      },
      "execution_count": null,
      "outputs": []
    },
    {
      "cell_type": "code",
      "source": [
        "df.head()"
      ],
      "metadata": {
        "id": "Uk3UJ4wMIGLr"
      },
      "execution_count": null,
      "outputs": []
    },
    {
      "cell_type": "code",
      "source": [
        "#verificando o tipo da coluna Tempo_envio\n",
        "df['Tempo_envio'].dtype"
      ],
      "metadata": {
        "id": "Bqf41uEuIIOm"
      },
      "execution_count": null,
      "outputs": []
    },
    {
      "cell_type": "code",
      "source": [
        "#Média do tempo de envio por marca\n",
        "df.groupby('Marca')['Tempo_envio'].mean()"
      ],
      "metadata": {
        "id": "u4R5Y00eJDOa"
      },
      "execution_count": null,
      "outputs": []
    },
    {
      "cell_type": "markdown",
      "source": [
        "### **Missing Values**"
      ],
      "metadata": {
        "id": "H7Hj9pP0LNv1"
      }
    },
    {
      "cell_type": "code",
      "source": [
        "#Verificando se há dados faltantes\n",
        "df.isnull().sum()"
      ],
      "metadata": {
        "id": "eV_bPxPAKbnZ"
      },
      "execution_count": null,
      "outputs": []
    },
    {
      "cell_type": "markdown",
      "source": [
        "### ***Agrupando por Ano e por Marca***"
      ],
      "metadata": {
        "id": "OZ7fmjrpMwBH"
      }
    },
    {
      "cell_type": "code",
      "source": [
        "df.groupby([df['Data Venda'].dt.year, 'Marca'])['Lucro'].sum()"
      ],
      "metadata": {
        "id": "GREAQprYLuW2"
      },
      "execution_count": null,
      "outputs": []
    },
    {
      "cell_type": "code",
      "source": [
        "pd.options.display.float_format = '{:20,.2f}'.format #Configura o formato de apresentação dos numeros flutuantes (float)"
      ],
      "metadata": {
        "id": "RLe0yVzTNN7m"
      },
      "execution_count": null,
      "outputs": []
    },
    {
      "cell_type": "code",
      "source": [
        "#resetando o Index\n",
        "lucro_ano = df.groupby([df['Data Venda'].dt.year, 'Marca'])['Lucro'].sum().reset_index() #reseta o index para armazenar os dados em formato de colunas em um novo dataframe\n",
        "lucro_ano"
      ],
      "metadata": {
        "id": "4o-EbZHbOJZ2"
      },
      "execution_count": null,
      "outputs": []
    },
    {
      "cell_type": "code",
      "source": [
        "#total de produtos vendidos\n",
        "df.groupby('Produto')['Quantidade'].sum().sort_values(ascending=False)"
      ],
      "metadata": {
        "id": "kA6ug5rNPazj"
      },
      "execution_count": null,
      "outputs": []
    },
    {
      "cell_type": "code",
      "source": [
        "#gráfico total de produtos\n",
        "df.groupby('Produto')['Quantidade'].sum().sort_values(ascending=True).plot.barh(title='Total de produtos vendido')\n",
        "plt.xlabel('Total')\n",
        "plt.ylabel('Produto');"
      ],
      "metadata": {
        "id": "SNPVKINzPvWm"
      },
      "execution_count": null,
      "outputs": []
    },
    {
      "cell_type": "code",
      "source": [
        "#lucro por ano\n",
        "df.groupby(df['Data Venda'].dt.year)['Lucro'].sum().plot.bar(title='Lucro x Ano')\n",
        "plt.xlabel('Ano')\n",
        "plt.ylabel('Receita');"
      ],
      "metadata": {
        "id": "2XO7ftTaQUxP"
      },
      "execution_count": null,
      "outputs": []
    },
    {
      "cell_type": "code",
      "source": [
        "#selecionando as vendas de 2009\n",
        "df_2009 = df[df['Data Venda'].dt.year == 2009]"
      ],
      "metadata": {
        "id": "cC4_Ur_XRGCN"
      },
      "execution_count": null,
      "outputs": []
    },
    {
      "cell_type": "code",
      "source": [
        "df_2009.head()"
      ],
      "metadata": {
        "id": "FKq4P5jJR81h"
      },
      "execution_count": null,
      "outputs": []
    },
    {
      "cell_type": "code",
      "source": [
        "#lucro por mês\n",
        "df_2009.groupby(df_2009['Data Venda'].dt.month)['Lucro'].sum().plot(title='Lucro x Mês')\n",
        "plt.xlabel('Mês')\n",
        "plt.ylabel('Lucro');"
      ],
      "metadata": {
        "id": "KMP23KKPSCCQ"
      },
      "execution_count": null,
      "outputs": []
    },
    {
      "cell_type": "code",
      "source": [
        "#lucro por marca\n",
        "df_2009.groupby('Marca')['Lucro'].sum().plot.bar(title='Lucro x Marca')\n",
        "plt.xlabel('Marca')\n",
        "plt.ylabel('Lucro');"
      ],
      "metadata": {
        "id": "ehB5xNCB8aWn"
      },
      "execution_count": null,
      "outputs": []
    },
    {
      "cell_type": "code",
      "source": [
        "#lucro por classe de produto\n",
        "df_2009.groupby('Classe')['Lucro'].sum().plot.bar(title='Lucro x Classe')\n",
        "plt.xlabel('Classe')\n",
        "plt.ylabel('Lucro')\n",
        "plt.xticks(rotation='horizontal'); #coloca as legendas na orientalção vertical"
      ],
      "metadata": {
        "id": "Ugq7O98I-56R"
      },
      "execution_count": null,
      "outputs": []
    },
    {
      "cell_type": "code",
      "source": [
        "#análises estatisticas básicas do dataset\n",
        "df_2009['Tempo_envio'].describe()"
      ],
      "metadata": {
        "id": "kQcf1hSjAx6R"
      },
      "execution_count": null,
      "outputs": []
    },
    {
      "cell_type": "code",
      "source": [
        "#gráfico de Boxplot\n",
        "plt.boxplot(df['Tempo_envio']);"
      ],
      "metadata": {
        "id": "3YlgHTfcBPv1"
      },
      "execution_count": null,
      "outputs": []
    },
    {
      "cell_type": "code",
      "source": [
        "#Histograma\n",
        "plt.hist(df['Tempo_envio']);"
      ],
      "metadata": {
        "id": "e6sUTVJ5BeVL"
      },
      "execution_count": null,
      "outputs": []
    },
    {
      "cell_type": "code",
      "source": [
        "#Tempo minimo de envio\n",
        "df['Tempo_envio'].min()"
      ],
      "metadata": {
        "id": "dHhKAJfIDFgK"
      },
      "execution_count": null,
      "outputs": []
    },
    {
      "cell_type": "code",
      "source": [
        "#Tempo máximo de envio\n",
        "df['Tempo_envio'].max()"
      ],
      "metadata": {
        "id": "8Ah85yw-DTZW"
      },
      "execution_count": null,
      "outputs": []
    },
    {
      "cell_type": "code",
      "source": [
        "#Identificador de Outlier (filtragem)\n",
        "df[df['Tempo_envio'] == 20]"
      ],
      "metadata": {
        "id": "294IigdsDZzD"
      },
      "execution_count": null,
      "outputs": []
    },
    {
      "cell_type": "code",
      "source": [
        "#Salvando em novo arquivo\n",
        "df.to_csv('df_Vendas_novo.csv', index=False)"
      ],
      "metadata": {
        "id": "dP2kEo4gDuh8"
      },
      "execution_count": null,
      "outputs": []
    }
  ]
}